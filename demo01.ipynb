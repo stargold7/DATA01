{
 "cells": [
  {
   "cell_type": "code",
   "execution_count": 4,
   "metadata": {},
   "outputs": [],
   "source": [
    "import numpy as np;\n",
    "import pandas as pd;\n",
    "import matplotlib.pyplot as plt\n"
   ]
  },
  {
   "cell_type": "code",
   "execution_count": 5,
   "metadata": {},
   "outputs": [
    {
     "data": {
      "text/plain": [
       "array([2, 5, 7])"
      ]
     },
     "execution_count": 5,
     "metadata": {},
     "output_type": "execute_result"
    }
   ],
   "source": [
    "a = np.array([1,2,3]);\n",
    "b = np.array([1,3,4]);\n",
    "kh = (a+b);\n",
    "kh"
   ]
  },
  {
   "cell_type": "code",
   "execution_count": 6,
   "metadata": {},
   "outputs": [
    {
     "name": "stdout",
     "output_type": "stream",
     "text": [
      "(3,)\n",
      "(3,)\n"
     ]
    }
   ],
   "source": [
    "print(a.shape);\n",
    "print(b.shape);"
   ]
  },
  {
   "cell_type": "code",
   "execution_count": 7,
   "metadata": {},
   "outputs": [
    {
     "data": {
      "text/plain": [
       "array([1, 2, 3, 4, 5, 6, 7, 8, 9, 1, 2, 3, 4, 5, 6, 7, 8, 9])"
      ]
     },
     "execution_count": 7,
     "metadata": {},
     "output_type": "execute_result"
    }
   ],
   "source": [
    "a = np.array([1,2,3,4,5,6,7,8,9]);\n",
    "b = np.array([1,2,3,4,5,6,7,8,9]);\n",
    "k = np.concatenate((a,b));\n",
    "k"
   ]
  },
  {
   "cell_type": "code",
   "execution_count": 8,
   "metadata": {},
   "outputs": [
    {
     "data": {
      "text/plain": [
       "array([3, 4, 5, 6, 7])"
      ]
     },
     "execution_count": 8,
     "metadata": {},
     "output_type": "execute_result"
    }
   ],
   "source": [
    "a = np.array([1,2,3,4,5,6,7,8,9]);\n",
    "b = a[2:7];\n",
    "b"
   ]
  },
  {
   "cell_type": "code",
   "execution_count": 9,
   "metadata": {},
   "outputs": [
    {
     "data": {
      "text/plain": [
       "np.int64(45)"
      ]
     },
     "execution_count": 9,
     "metadata": {},
     "output_type": "execute_result"
    }
   ],
   "source": [
    "sum = np.sum(a);\n",
    "sum"
   ]
  },
  {
   "cell_type": "code",
   "execution_count": 10,
   "metadata": {},
   "outputs": [
    {
     "data": {
      "text/plain": [
       "np.int64(9)"
      ]
     },
     "execution_count": 10,
     "metadata": {},
     "output_type": "execute_result"
    }
   ],
   "source": [
    "sum = np.max(a);\n",
    "sum"
   ]
  },
  {
   "cell_type": "code",
   "execution_count": 11,
   "metadata": {},
   "outputs": [
    {
     "data": {
      "text/plain": [
       "np.int64(1)"
      ]
     },
     "execution_count": 11,
     "metadata": {},
     "output_type": "execute_result"
    }
   ],
   "source": [
    "sum = np.min(a);\n",
    "sum"
   ]
  },
  {
   "cell_type": "code",
   "execution_count": 12,
   "metadata": {},
   "outputs": [],
   "source": [
    "a = np.array([22,33,44,55]);\n",
    "b = np.array([11,77,88,99]);\n",
    "c = a+b;\n"
   ]
  },
  {
   "cell_type": "code",
   "execution_count": 13,
   "metadata": {},
   "outputs": [
    {
     "data": {
      "text/plain": [
       "array([[[6.39628114e-01, 5.17289870e-01, 9.78016445e-01, ...,\n",
       "         4.21988542e-01, 2.41168076e-01, 1.21309234e-01],\n",
       "        [7.99350823e-01, 7.92204394e-01, 1.18413481e-01, ...,\n",
       "         7.97262663e-01, 5.45885288e-01, 4.29087517e-01],\n",
       "        [7.65634696e-02, 2.50581767e-01, 8.74850994e-01, ...,\n",
       "         8.43055462e-01, 9.26099369e-01, 7.08782015e-01],\n",
       "        ...,\n",
       "        [6.22555246e-01, 2.44886927e-01, 8.04922719e-01, ...,\n",
       "         5.87224554e-01, 4.59403960e-01, 3.71945158e-02],\n",
       "        [2.39829697e-01, 7.20528840e-01, 9.38330769e-01, ...,\n",
       "         3.62693798e-01, 7.18984755e-01, 7.14103842e-01],\n",
       "        [4.05280015e-01, 1.69635682e-01, 5.31282968e-02, ...,\n",
       "         9.76649854e-01, 1.75007906e-04, 6.40037507e-02]],\n",
       "\n",
       "       [[4.17843169e-01, 5.87236265e-01, 6.50753168e-01, ...,\n",
       "         5.18774598e-01, 5.20369831e-01, 8.54828380e-01],\n",
       "        [7.21335502e-01, 9.44942956e-01, 9.37637016e-01, ...,\n",
       "         3.00959947e-01, 9.36626475e-01, 7.22988423e-01],\n",
       "        [3.18352960e-03, 4.18358825e-01, 6.43432533e-01, ...,\n",
       "         2.20686251e-01, 2.84947875e-01, 6.86406149e-02],\n",
       "        ...,\n",
       "        [1.89206760e-01, 7.72569364e-01, 9.16611052e-01, ...,\n",
       "         4.25055950e-01, 2.66328057e-01, 6.63029806e-01],\n",
       "        [4.54672228e-01, 8.91819742e-01, 8.72923078e-01, ...,\n",
       "         1.16137637e-01, 5.53635386e-01, 7.34198203e-01],\n",
       "        [9.36794893e-01, 3.25384175e-01, 6.19397589e-01, ...,\n",
       "         3.44207549e-01, 4.46416018e-01, 1.38961375e-01]],\n",
       "\n",
       "       [[2.06188339e-01, 6.44763693e-01, 1.27540731e-01, ...,\n",
       "         9.74961141e-01, 4.35773564e-02, 2.84607938e-01],\n",
       "        [1.46721174e-01, 8.11674919e-01, 4.71908551e-01, ...,\n",
       "         5.09766218e-01, 3.85627712e-01, 3.86344976e-01],\n",
       "        [9.05867107e-01, 9.36868897e-01, 6.21256927e-01, ...,\n",
       "         6.95954056e-01, 4.89844856e-01, 9.81022138e-01],\n",
       "        ...,\n",
       "        [6.92589125e-01, 6.87741777e-01, 5.10955729e-01, ...,\n",
       "         8.57293171e-01, 7.88910234e-01, 7.42460367e-01],\n",
       "        [8.92742286e-01, 3.19244823e-01, 8.77080552e-01, ...,\n",
       "         5.19372850e-02, 1.04537119e-01, 8.30587922e-01],\n",
       "        [3.05117636e-01, 9.71637780e-01, 5.29750238e-01, ...,\n",
       "         6.83465151e-01, 8.83070503e-01, 5.43532155e-01]],\n",
       "\n",
       "       ...,\n",
       "\n",
       "       [[3.50098726e-01, 4.70330599e-01, 7.26154107e-01, ...,\n",
       "         6.52782500e-01, 2.33991459e-01, 9.05259427e-01],\n",
       "        [3.31584910e-01, 4.35010629e-01, 1.83638837e-01, ...,\n",
       "         2.05833943e-01, 1.44700708e-01, 6.79921508e-01],\n",
       "        [9.02906593e-01, 5.97663803e-01, 9.47737847e-01, ...,\n",
       "         5.76882279e-01, 2.08664872e-01, 1.34122991e-01],\n",
       "        ...,\n",
       "        [3.54781886e-01, 8.68556882e-01, 2.06179455e-01, ...,\n",
       "         8.18021500e-01, 2.77502125e-01, 5.66742753e-01],\n",
       "        [5.39698666e-01, 6.36663640e-01, 3.20747333e-01, ...,\n",
       "         1.66728654e-01, 6.38375493e-01, 1.64130977e-02],\n",
       "        [1.39149039e-01, 1.84203286e-01, 5.04462036e-01, ...,\n",
       "         7.97917144e-01, 4.65386997e-01, 8.98002282e-01]],\n",
       "\n",
       "       [[1.18305422e-01, 6.05435648e-01, 3.59127163e-01, ...,\n",
       "         8.89119780e-01, 9.98550679e-01, 8.43657606e-01],\n",
       "        [7.67244194e-01, 3.78872510e-01, 5.58583584e-01, ...,\n",
       "         9.54008243e-01, 6.75486814e-01, 7.49297308e-01],\n",
       "        [5.93637691e-01, 5.94707474e-01, 2.15207553e-01, ...,\n",
       "         9.87784710e-01, 4.68961625e-01, 4.66029138e-01],\n",
       "        ...,\n",
       "        [6.28698636e-01, 5.99449875e-01, 5.67797013e-01, ...,\n",
       "         5.46682683e-02, 5.51158225e-01, 5.04536225e-01],\n",
       "        [3.10462754e-01, 9.90486511e-01, 4.31032148e-01, ...,\n",
       "         3.18696693e-01, 3.69949787e-01, 2.26202430e-01],\n",
       "        [2.35529535e-02, 1.40888552e-01, 8.73046960e-01, ...,\n",
       "         2.48767212e-02, 3.80997258e-01, 3.44400793e-01]],\n",
       "\n",
       "       [[8.04823513e-01, 6.17274271e-01, 4.03597262e-01, ...,\n",
       "         3.07273956e-01, 6.65241822e-01, 1.66520350e-01],\n",
       "        [4.68168704e-01, 8.74011885e-01, 2.67877126e-01, ...,\n",
       "         2.41506069e-01, 6.69342165e-01, 3.01511574e-02],\n",
       "        [1.20804087e-01, 1.68845938e-01, 6.61520715e-01, ...,\n",
       "         9.50274293e-01, 9.56722961e-03, 8.11809518e-02],\n",
       "        ...,\n",
       "        [9.69731574e-01, 8.25754059e-01, 5.94117823e-02, ...,\n",
       "         5.38806897e-01, 2.36474121e-01, 4.61886766e-01],\n",
       "        [4.49834845e-02, 3.65976441e-01, 8.63243624e-01, ...,\n",
       "         3.20914857e-01, 7.95638125e-01, 6.02616570e-01],\n",
       "        [1.09806401e-01, 4.22528866e-01, 3.30905232e-01, ...,\n",
       "         6.24627061e-02, 1.08205073e-01, 8.59528772e-02]]],\n",
       "      shape=(10, 15, 20))"
      ]
     },
     "execution_count": 13,
     "metadata": {},
     "output_type": "execute_result"
    }
   ],
   "source": [
    "a = np.random.rand(10,15,20);\n",
    "a"
   ]
  },
  {
   "cell_type": "code",
   "execution_count": 14,
   "metadata": {},
   "outputs": [
    {
     "data": {
      "text/plain": [
       "array([[1, 3, 5, 8],\n",
       "       [2, 9, 8, 5]])"
      ]
     },
     "execution_count": 14,
     "metadata": {},
     "output_type": "execute_result"
    }
   ],
   "source": [
    "a = np.array([1,3,5,8]);\n",
    "b = np.array([2,9,8,5]);\n",
    "c = np.vstack((a,b));\n",
    "c"
   ]
  },
  {
   "cell_type": "code",
   "execution_count": 15,
   "metadata": {},
   "outputs": [
    {
     "data": {
      "text/plain": [
       "array([1, 3, 5, 8, 2, 9, 8, 5])"
      ]
     },
     "execution_count": 15,
     "metadata": {},
     "output_type": "execute_result"
    }
   ],
   "source": [
    "c = np.hstack((a,b));\n",
    "c"
   ]
  },
  {
   "cell_type": "code",
   "execution_count": 16,
   "metadata": {},
   "outputs": [
    {
     "data": {
      "text/plain": [
       "np.float64(4.25)"
      ]
     },
     "execution_count": 16,
     "metadata": {},
     "output_type": "execute_result"
    }
   ],
   "source": [
    "c = np.mean(a);\n",
    "c"
   ]
  },
  {
   "cell_type": "code",
   "execution_count": 17,
   "metadata": {},
   "outputs": [
    {
     "data": {
      "text/plain": [
       "np.float64(2.7386127875258306)"
      ]
     },
     "execution_count": 17,
     "metadata": {},
     "output_type": "execute_result"
    }
   ],
   "source": [
    "c = np.std(b);\n",
    "c"
   ]
  },
  {
   "cell_type": "code",
   "execution_count": 18,
   "metadata": {},
   "outputs": [
    {
     "data": {
      "application/vnd.microsoft.datawrangler.viewer.v0+json": {
       "columns": [
        {
         "name": "index",
         "rawType": "int64",
         "type": "integer"
        },
        {
         "name": "Name",
         "rawType": "object",
         "type": "string"
        },
        {
         "name": "Age",
         "rawType": "int64",
         "type": "integer"
        },
        {
         "name": "phonenumber",
         "rawType": "object",
         "type": "string"
        }
       ],
       "conversionMethod": "pd.DataFrame",
       "ref": "e6090f1c-1ee4-48eb-a4d0-a3c30aae2eeb",
       "rows": [
        [
         "0",
         "Reza",
         "18",
         "09922313387"
        ],
        [
         "1",
         "Ali",
         "10",
         "09193485713"
        ],
        [
         "2",
         "Hossein",
         "14",
         "09191466985"
        ]
       ],
       "shape": {
        "columns": 3,
        "rows": 3
       }
      },
      "text/html": [
       "<div>\n",
       "<style scoped>\n",
       "    .dataframe tbody tr th:only-of-type {\n",
       "        vertical-align: middle;\n",
       "    }\n",
       "\n",
       "    .dataframe tbody tr th {\n",
       "        vertical-align: top;\n",
       "    }\n",
       "\n",
       "    .dataframe thead th {\n",
       "        text-align: right;\n",
       "    }\n",
       "</style>\n",
       "<table border=\"1\" class=\"dataframe\">\n",
       "  <thead>\n",
       "    <tr style=\"text-align: right;\">\n",
       "      <th></th>\n",
       "      <th>Name</th>\n",
       "      <th>Age</th>\n",
       "      <th>phonenumber</th>\n",
       "    </tr>\n",
       "  </thead>\n",
       "  <tbody>\n",
       "    <tr>\n",
       "      <th>0</th>\n",
       "      <td>Reza</td>\n",
       "      <td>18</td>\n",
       "      <td>09922313387</td>\n",
       "    </tr>\n",
       "    <tr>\n",
       "      <th>1</th>\n",
       "      <td>Ali</td>\n",
       "      <td>10</td>\n",
       "      <td>09193485713</td>\n",
       "    </tr>\n",
       "    <tr>\n",
       "      <th>2</th>\n",
       "      <td>Hossein</td>\n",
       "      <td>14</td>\n",
       "      <td>09191466985</td>\n",
       "    </tr>\n",
       "  </tbody>\n",
       "</table>\n",
       "</div>"
      ],
      "text/plain": [
       "      Name  Age  phonenumber\n",
       "0     Reza   18  09922313387\n",
       "1      Ali   10  09193485713\n",
       "2  Hossein   14  09191466985"
      ]
     },
     "execution_count": 18,
     "metadata": {},
     "output_type": "execute_result"
    }
   ],
   "source": [
    "data = {\n",
    "    \"Name\":[\"Reza\",\"Ali\",\"Hossein\"],\n",
    "    \"Age\":[18,10,14],\n",
    "    \"phonenumber\":[\"09922313387\",\"09193485713\",\"09191466985\"]\n",
    "}\n",
    "h = pd.DataFrame(data);\n",
    "h"
   ]
  },
  {
   "cell_type": "code",
   "execution_count": 21,
   "metadata": {},
   "outputs": [
    {
     "data": {
      "application/vnd.microsoft.datawrangler.viewer.v0+json": {
       "columns": [
        {
         "name": "index",
         "rawType": "int64",
         "type": "integer"
        },
        {
         "name": "Name",
         "rawType": "object",
         "type": "string"
        },
        {
         "name": "Age",
         "rawType": "int64",
         "type": "integer"
        },
        {
         "name": "phonenumber",
         "rawType": "object",
         "type": "string"
        }
       ],
       "conversionMethod": "pd.DataFrame",
       "ref": "e09b3a31-9b3f-467d-b174-2af592e16f6a",
       "rows": [
        [
         "0",
         "Reza",
         "18",
         "09922313387"
        ],
        [
         "1",
         "Ali",
         "10",
         "09193485713"
        ],
        [
         "2",
         "Hossein",
         "14",
         "09191466985"
        ]
       ],
       "shape": {
        "columns": 3,
        "rows": 3
       }
      },
      "text/html": [
       "<div>\n",
       "<style scoped>\n",
       "    .dataframe tbody tr th:only-of-type {\n",
       "        vertical-align: middle;\n",
       "    }\n",
       "\n",
       "    .dataframe tbody tr th {\n",
       "        vertical-align: top;\n",
       "    }\n",
       "\n",
       "    .dataframe thead th {\n",
       "        text-align: right;\n",
       "    }\n",
       "</style>\n",
       "<table border=\"1\" class=\"dataframe\">\n",
       "  <thead>\n",
       "    <tr style=\"text-align: right;\">\n",
       "      <th></th>\n",
       "      <th>Name</th>\n",
       "      <th>Age</th>\n",
       "      <th>phonenumber</th>\n",
       "    </tr>\n",
       "  </thead>\n",
       "  <tbody>\n",
       "    <tr>\n",
       "      <th>0</th>\n",
       "      <td>Reza</td>\n",
       "      <td>18</td>\n",
       "      <td>09922313387</td>\n",
       "    </tr>\n",
       "    <tr>\n",
       "      <th>1</th>\n",
       "      <td>Ali</td>\n",
       "      <td>10</td>\n",
       "      <td>09193485713</td>\n",
       "    </tr>\n",
       "    <tr>\n",
       "      <th>2</th>\n",
       "      <td>Hossein</td>\n",
       "      <td>14</td>\n",
       "      <td>09191466985</td>\n",
       "    </tr>\n",
       "  </tbody>\n",
       "</table>\n",
       "</div>"
      ],
      "text/plain": [
       "      Name  Age  phonenumber\n",
       "0     Reza   18  09922313387\n",
       "1      Ali   10  09193485713\n",
       "2  Hossein   14  09191466985"
      ]
     },
     "execution_count": 21,
     "metadata": {},
     "output_type": "execute_result"
    }
   ],
   "source": [
    "df = pd.DataFrame(data);\n",
    "df"
   ]
  },
  {
   "cell_type": "code",
   "execution_count": 22,
   "metadata": {},
   "outputs": [
    {
     "data": {
      "application/vnd.microsoft.datawrangler.viewer.v0+json": {
       "columns": [
        {
         "name": "index",
         "rawType": "int64",
         "type": "integer"
        },
        {
         "name": "Name",
         "rawType": "object",
         "type": "string"
        },
        {
         "name": "Age",
         "rawType": "int64",
         "type": "integer"
        },
        {
         "name": "phonenumber",
         "rawType": "object",
         "type": "string"
        }
       ],
       "conversionMethod": "pd.DataFrame",
       "ref": "dddb0566-81de-49ab-bc08-61326ea9a64d",
       "rows": [
        [
         "0",
         "Reza",
         "18",
         "09922313387"
        ],
        [
         "1",
         "Ali",
         "10",
         "09193485713"
        ],
        [
         "2",
         "Hossein",
         "14",
         "09191466985"
        ]
       ],
       "shape": {
        "columns": 3,
        "rows": 3
       }
      },
      "text/html": [
       "<div>\n",
       "<style scoped>\n",
       "    .dataframe tbody tr th:only-of-type {\n",
       "        vertical-align: middle;\n",
       "    }\n",
       "\n",
       "    .dataframe tbody tr th {\n",
       "        vertical-align: top;\n",
       "    }\n",
       "\n",
       "    .dataframe thead th {\n",
       "        text-align: right;\n",
       "    }\n",
       "</style>\n",
       "<table border=\"1\" class=\"dataframe\">\n",
       "  <thead>\n",
       "    <tr style=\"text-align: right;\">\n",
       "      <th></th>\n",
       "      <th>Name</th>\n",
       "      <th>Age</th>\n",
       "      <th>phonenumber</th>\n",
       "    </tr>\n",
       "  </thead>\n",
       "  <tbody>\n",
       "    <tr>\n",
       "      <th>0</th>\n",
       "      <td>Reza</td>\n",
       "      <td>18</td>\n",
       "      <td>09922313387</td>\n",
       "    </tr>\n",
       "    <tr>\n",
       "      <th>1</th>\n",
       "      <td>Ali</td>\n",
       "      <td>10</td>\n",
       "      <td>09193485713</td>\n",
       "    </tr>\n",
       "    <tr>\n",
       "      <th>2</th>\n",
       "      <td>Hossein</td>\n",
       "      <td>14</td>\n",
       "      <td>09191466985</td>\n",
       "    </tr>\n",
       "  </tbody>\n",
       "</table>\n",
       "</div>"
      ],
      "text/plain": [
       "      Name  Age  phonenumber\n",
       "0     Reza   18  09922313387\n",
       "1      Ali   10  09193485713\n",
       "2  Hossein   14  09191466985"
      ]
     },
     "execution_count": 22,
     "metadata": {},
     "output_type": "execute_result"
    }
   ],
   "source": [
    "df.head();\n",
    "df"
   ]
  },
  {
   "cell_type": "code",
   "execution_count": 23,
   "metadata": {},
   "outputs": [
    {
     "data": {
      "application/vnd.microsoft.datawrangler.viewer.v0+json": {
       "columns": [
        {
         "name": "index",
         "rawType": "int64",
         "type": "integer"
        },
        {
         "name": "Name",
         "rawType": "object",
         "type": "string"
        },
        {
         "name": "Age",
         "rawType": "int64",
         "type": "integer"
        },
        {
         "name": "phonenumber",
         "rawType": "object",
         "type": "string"
        }
       ],
       "conversionMethod": "pd.DataFrame",
       "ref": "cfed4740-142a-4737-8715-9ec6d0227925",
       "rows": [
        [
         "0",
         "Reza",
         "18",
         "09922313387"
        ],
        [
         "1",
         "Ali",
         "10",
         "09193485713"
        ],
        [
         "2",
         "Hossein",
         "14",
         "09191466985"
        ]
       ],
       "shape": {
        "columns": 3,
        "rows": 3
       }
      },
      "text/html": [
       "<div>\n",
       "<style scoped>\n",
       "    .dataframe tbody tr th:only-of-type {\n",
       "        vertical-align: middle;\n",
       "    }\n",
       "\n",
       "    .dataframe tbody tr th {\n",
       "        vertical-align: top;\n",
       "    }\n",
       "\n",
       "    .dataframe thead th {\n",
       "        text-align: right;\n",
       "    }\n",
       "</style>\n",
       "<table border=\"1\" class=\"dataframe\">\n",
       "  <thead>\n",
       "    <tr style=\"text-align: right;\">\n",
       "      <th></th>\n",
       "      <th>Name</th>\n",
       "      <th>Age</th>\n",
       "      <th>phonenumber</th>\n",
       "    </tr>\n",
       "  </thead>\n",
       "  <tbody>\n",
       "    <tr>\n",
       "      <th>0</th>\n",
       "      <td>Reza</td>\n",
       "      <td>18</td>\n",
       "      <td>09922313387</td>\n",
       "    </tr>\n",
       "    <tr>\n",
       "      <th>1</th>\n",
       "      <td>Ali</td>\n",
       "      <td>10</td>\n",
       "      <td>09193485713</td>\n",
       "    </tr>\n",
       "    <tr>\n",
       "      <th>2</th>\n",
       "      <td>Hossein</td>\n",
       "      <td>14</td>\n",
       "      <td>09191466985</td>\n",
       "    </tr>\n",
       "  </tbody>\n",
       "</table>\n",
       "</div>"
      ],
      "text/plain": [
       "      Name  Age  phonenumber\n",
       "0     Reza   18  09922313387\n",
       "1      Ali   10  09193485713\n",
       "2  Hossein   14  09191466985"
      ]
     },
     "execution_count": 23,
     "metadata": {},
     "output_type": "execute_result"
    }
   ],
   "source": [
    "df.describe();\n",
    "df"
   ]
  },
  {
   "cell_type": "code",
   "execution_count": 24,
   "metadata": {},
   "outputs": [
    {
     "data": {
      "application/vnd.microsoft.datawrangler.viewer.v0+json": {
       "columns": [
        {
         "name": "index",
         "rawType": "int64",
         "type": "integer"
        },
        {
         "name": "Name",
         "rawType": "object",
         "type": "string"
        },
        {
         "name": "Age",
         "rawType": "int64",
         "type": "integer"
        },
        {
         "name": "phonenumber",
         "rawType": "object",
         "type": "string"
        }
       ],
       "conversionMethod": "pd.DataFrame",
       "ref": "cd375794-0370-4840-a0fa-a2264ccb7e10",
       "rows": [
        [
         "0",
         "Reza",
         "18",
         "09922313387"
        ],
        [
         "1",
         "Ali",
         "10",
         "09193485713"
        ],
        [
         "2",
         "Hossein",
         "14",
         "09191466985"
        ]
       ],
       "shape": {
        "columns": 3,
        "rows": 3
       }
      },
      "text/html": [
       "<div>\n",
       "<style scoped>\n",
       "    .dataframe tbody tr th:only-of-type {\n",
       "        vertical-align: middle;\n",
       "    }\n",
       "\n",
       "    .dataframe tbody tr th {\n",
       "        vertical-align: top;\n",
       "    }\n",
       "\n",
       "    .dataframe thead th {\n",
       "        text-align: right;\n",
       "    }\n",
       "</style>\n",
       "<table border=\"1\" class=\"dataframe\">\n",
       "  <thead>\n",
       "    <tr style=\"text-align: right;\">\n",
       "      <th></th>\n",
       "      <th>Name</th>\n",
       "      <th>Age</th>\n",
       "      <th>phonenumber</th>\n",
       "    </tr>\n",
       "  </thead>\n",
       "  <tbody>\n",
       "    <tr>\n",
       "      <th>0</th>\n",
       "      <td>Reza</td>\n",
       "      <td>18</td>\n",
       "      <td>09922313387</td>\n",
       "    </tr>\n",
       "    <tr>\n",
       "      <th>1</th>\n",
       "      <td>Ali</td>\n",
       "      <td>10</td>\n",
       "      <td>09193485713</td>\n",
       "    </tr>\n",
       "    <tr>\n",
       "      <th>2</th>\n",
       "      <td>Hossein</td>\n",
       "      <td>14</td>\n",
       "      <td>09191466985</td>\n",
       "    </tr>\n",
       "  </tbody>\n",
       "</table>\n",
       "</div>"
      ],
      "text/plain": [
       "      Name  Age  phonenumber\n",
       "0     Reza   18  09922313387\n",
       "1      Ali   10  09193485713\n",
       "2  Hossein   14  09191466985"
      ]
     },
     "execution_count": 24,
     "metadata": {},
     "output_type": "execute_result"
    }
   ],
   "source": [
    "df[\"Age\"];\n",
    "df"
   ]
  },
  {
   "cell_type": "code",
   "execution_count": null,
   "metadata": {},
   "outputs": [],
   "source": []
  },
  {
   "cell_type": "code",
   "execution_count": null,
   "metadata": {},
   "outputs": [],
   "source": []
  }
 ],
 "metadata": {
  "kernelspec": {
   "display_name": "Python 3",
   "language": "python",
   "name": "python3"
  },
  "language_info": {
   "codemirror_mode": {
    "name": "ipython",
    "version": 3
   },
   "file_extension": ".py",
   "mimetype": "text/x-python",
   "name": "python",
   "nbconvert_exporter": "python",
   "pygments_lexer": "ipython3",
   "version": "3.13.2"
  }
 },
 "nbformat": 4,
 "nbformat_minor": 2
}
