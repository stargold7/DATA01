{
 "cells": [
  {
   "cell_type": "code",
   "execution_count": 2,
   "metadata": {},
   "outputs": [],
   "source": [
    "import numpy as np;\n",
    "import pandas as pd;\n",
    "import matplotlib.pyplot as plt\n"
   ]
  },
  {
   "cell_type": "code",
   "execution_count": null,
   "metadata": {},
   "outputs": [
    {
     "data": {
      "text/plain": [
       "array([2, 5, 7])"
      ]
     },
     "execution_count": 4,
     "metadata": {},
     "output_type": "execute_result"
    }
   ],
   "source": [
    "a = np.array([1,2,3]);\n",
    "b = np.array([1,3,4]);\n",
    "kh = (a+b);\n",
    "kh"
   ]
  },
  {
   "cell_type": "code",
   "execution_count": 6,
   "metadata": {},
   "outputs": [
    {
     "name": "stdout",
     "output_type": "stream",
     "text": [
      "(3,)\n",
      "(3,)\n"
     ]
    }
   ],
   "source": [
    "print(a.shape);\n",
    "print(b.shape);"
   ]
  },
  {
   "cell_type": "code",
   "execution_count": 13,
   "metadata": {},
   "outputs": [
    {
     "data": {
      "text/plain": [
       "array([1, 2, 3, 4, 5, 6, 7, 8, 9, 1, 2, 3, 4, 5, 6, 7, 8, 9])"
      ]
     },
     "execution_count": 13,
     "metadata": {},
     "output_type": "execute_result"
    }
   ],
   "source": [
    "a = np.array([1,2,3,4,5,6,7,8,9]);\n",
    "b = np.array([1,2,3,4,5,6,7,8,9]);\n",
    "k = np.concatenate((a,b));\n",
    "k"
   ]
  },
  {
   "cell_type": "code",
   "execution_count": null,
   "metadata": {},
   "outputs": [
    {
     "data": {
      "text/plain": [
       "array([3, 4, 5, 6, 7])"
      ]
     },
     "execution_count": 15,
     "metadata": {},
     "output_type": "execute_result"
    }
   ],
   "source": [
    "a = np.array([1,2,3,4,5,6,7,8,9]);\n",
    "b = a[2:7];\n",
    "b"
   ]
  },
  {
   "cell_type": "code",
   "execution_count": 16,
   "metadata": {},
   "outputs": [
    {
     "data": {
      "text/plain": [
       "np.int64(45)"
      ]
     },
     "execution_count": 16,
     "metadata": {},
     "output_type": "execute_result"
    }
   ],
   "source": [
    "sum = np.sum(a);\n",
    "sum"
   ]
  },
  {
   "cell_type": "code",
   "execution_count": 17,
   "metadata": {},
   "outputs": [
    {
     "data": {
      "text/plain": [
       "np.int64(9)"
      ]
     },
     "execution_count": 17,
     "metadata": {},
     "output_type": "execute_result"
    }
   ],
   "source": [
    "sum = np.max(a);\n",
    "sum"
   ]
  },
  {
   "cell_type": "code",
   "execution_count": 21,
   "metadata": {},
   "outputs": [
    {
     "data": {
      "text/plain": [
       "np.int64(1)"
      ]
     },
     "execution_count": 21,
     "metadata": {},
     "output_type": "execute_result"
    }
   ],
   "source": [
    "sum = np.min(a);\n",
    "sum"
   ]
  },
  {
   "cell_type": "code",
   "execution_count": null,
   "metadata": {},
   "outputs": [
    {
     "data": {
      "text/plain": [
       "array([ 33, 110, 132, 154])"
      ]
     },
     "execution_count": 22,
     "metadata": {},
     "output_type": "execute_result"
    }
   ],
   "source": [
    "a = np.array([22,33,44,55]);\n",
    "b = np.array([11,77,88,99]);\n",
    "c = a+b;\n"
   ]
  },
  {
   "cell_type": "code",
   "execution_count": 26,
   "metadata": {},
   "outputs": [
    {
     "data": {
      "text/plain": [
       "array([[[0.47160683, 0.30281391, 0.91049469, ..., 0.10456362,\n",
       "         0.0420297 , 0.51645723],\n",
       "        [0.91907348, 0.97264914, 0.522375  , ..., 0.62976084,\n",
       "         0.60193014, 0.75885772],\n",
       "        [0.67449084, 0.01664837, 0.56830224, ..., 0.27800281,\n",
       "         0.12545256, 0.72354909],\n",
       "        ...,\n",
       "        [0.09334053, 0.5891102 , 0.76203064, ..., 0.70931057,\n",
       "         0.74134565, 0.8585943 ],\n",
       "        [0.76136975, 0.65953055, 0.79090266, ..., 0.22723716,\n",
       "         0.95777536, 0.33361764],\n",
       "        [0.34498495, 0.83501213, 0.39293407, ..., 0.55439637,\n",
       "         0.40003771, 0.55293731]],\n",
       "\n",
       "       [[0.8706226 , 0.99566701, 0.83721909, ..., 0.91017655,\n",
       "         0.27337475, 0.73843832],\n",
       "        [0.99028517, 0.61252011, 0.64934387, ..., 0.25773868,\n",
       "         0.85261201, 0.74295796],\n",
       "        [0.48361947, 0.46503926, 0.96068953, ..., 0.95737119,\n",
       "         0.92791794, 0.95725462],\n",
       "        ...,\n",
       "        [0.13318276, 0.70774216, 0.21603223, ..., 0.57859627,\n",
       "         0.54645638, 0.22135962],\n",
       "        [0.72503493, 0.12688555, 0.95060963, ..., 0.72870512,\n",
       "         0.70850221, 0.50660937],\n",
       "        [0.07152047, 0.77541638, 0.76265648, ..., 0.03432374,\n",
       "         0.43024021, 0.08046575]],\n",
       "\n",
       "       [[0.63130628, 0.98771856, 0.08351583, ..., 0.72893471,\n",
       "         0.64571863, 0.85182096],\n",
       "        [0.76190575, 0.43612401, 0.34100429, ..., 0.4219712 ,\n",
       "         0.36875492, 0.91521963],\n",
       "        [0.11545239, 0.19352384, 0.79339376, ..., 0.20849183,\n",
       "         0.99246452, 0.68155785],\n",
       "        ...,\n",
       "        [0.43447612, 0.33269059, 0.73702283, ..., 0.13325737,\n",
       "         0.34190116, 0.7445037 ],\n",
       "        [0.44263593, 0.66834724, 0.73478114, ..., 0.53554812,\n",
       "         0.99342389, 0.49500346],\n",
       "        [0.74701638, 0.28013799, 0.01082525, ..., 0.52679161,\n",
       "         0.49114703, 0.05898585]],\n",
       "\n",
       "       ...,\n",
       "\n",
       "       [[0.18461255, 0.68275627, 0.90498087, ..., 0.49272738,\n",
       "         0.58191908, 0.16670654],\n",
       "        [0.43589237, 0.5582211 , 0.23305201, ..., 0.90641774,\n",
       "         0.91981199, 0.33870144],\n",
       "        [0.40331861, 0.82195258, 0.99640225, ..., 0.6097973 ,\n",
       "         0.38263424, 0.249807  ],\n",
       "        ...,\n",
       "        [0.84363784, 0.59046114, 0.45035608, ..., 0.02867118,\n",
       "         0.22546161, 0.88517246],\n",
       "        [0.40932395, 0.3436358 , 0.21566786, ..., 0.38651883,\n",
       "         0.83277974, 0.10027523],\n",
       "        [0.6431285 , 0.90710478, 0.7692357 , ..., 0.48892455,\n",
       "         0.84463106, 0.28211732]],\n",
       "\n",
       "       [[0.14531895, 0.83143219, 0.88368996, ..., 0.03074146,\n",
       "         0.97509047, 0.86008538],\n",
       "        [0.96054368, 0.66948101, 0.97333909, ..., 0.62186855,\n",
       "         0.96842446, 0.13262476],\n",
       "        [0.60386374, 0.30962973, 0.17842   , ..., 0.30691912,\n",
       "         0.03229828, 0.16540931],\n",
       "        ...,\n",
       "        [0.02718457, 0.07957859, 0.81868675, ..., 0.66845934,\n",
       "         0.60910215, 0.80506633],\n",
       "        [0.56998483, 0.9199542 , 0.75308151, ..., 0.38196227,\n",
       "         0.56738168, 0.03977857],\n",
       "        [0.25682633, 0.67696541, 0.07501484, ..., 0.9002353 ,\n",
       "         0.07071002, 0.67450326]],\n",
       "\n",
       "       [[0.88342074, 0.03662222, 0.9955571 , ..., 0.91185843,\n",
       "         0.29977682, 0.76063593],\n",
       "        [0.22939364, 0.22626707, 0.14154039, ..., 0.71050479,\n",
       "         0.52429691, 0.19618215],\n",
       "        [0.23247416, 0.5813725 , 0.91654306, ..., 0.10207482,\n",
       "         0.55530187, 0.82354974],\n",
       "        ...,\n",
       "        [0.16883291, 0.57059757, 0.68013714, ..., 0.08670928,\n",
       "         0.45942342, 0.94976668],\n",
       "        [0.16276094, 0.4259966 , 0.67272407, ..., 0.70536305,\n",
       "         0.18977255, 0.02485767],\n",
       "        [0.28660461, 0.44149267, 0.92144453, ..., 0.92754515,\n",
       "         0.38542259, 0.18957101]]], shape=(10, 15, 20))"
      ]
     },
     "execution_count": 26,
     "metadata": {},
     "output_type": "execute_result"
    }
   ],
   "source": [
    "a = np.random.rand(10,15,20);\n",
    "a"
   ]
  },
  {
   "cell_type": "code",
   "execution_count": 27,
   "metadata": {},
   "outputs": [
    {
     "data": {
      "text/plain": [
       "array([[1, 3, 5, 8],\n",
       "       [2, 9, 8, 5]])"
      ]
     },
     "execution_count": 27,
     "metadata": {},
     "output_type": "execute_result"
    }
   ],
   "source": [
    "a = np.array([1,3,5,8]);\n",
    "b = np.array([2,9,8,5]);\n",
    "c = np.vstack((a,b));\n",
    "c"
   ]
  },
  {
   "cell_type": "code",
   "execution_count": 28,
   "metadata": {},
   "outputs": [
    {
     "data": {
      "text/plain": [
       "array([1, 3, 5, 8, 2, 9, 8, 5])"
      ]
     },
     "execution_count": 28,
     "metadata": {},
     "output_type": "execute_result"
    }
   ],
   "source": [
    "c = np.hstack((a,b));\n",
    "c"
   ]
  },
  {
   "cell_type": "code",
   "execution_count": 29,
   "metadata": {},
   "outputs": [
    {
     "data": {
      "text/plain": [
       "np.float64(4.25)"
      ]
     },
     "execution_count": 29,
     "metadata": {},
     "output_type": "execute_result"
    }
   ],
   "source": [
    "c = np.mean(a);\n",
    "c"
   ]
  },
  {
   "cell_type": "code",
   "execution_count": 30,
   "metadata": {},
   "outputs": [
    {
     "data": {
      "text/plain": [
       "np.float64(2.7386127875258306)"
      ]
     },
     "execution_count": 30,
     "metadata": {},
     "output_type": "execute_result"
    }
   ],
   "source": [
    "c = np.std(b);\n",
    "c"
   ]
  },
  {
   "cell_type": "code",
   "execution_count": 34,
   "metadata": {},
   "outputs": [
    {
     "data": {
      "application/vnd.microsoft.datawrangler.viewer.v0+json": {
       "columns": [
        {
         "name": "index",
         "rawType": "int64",
         "type": "integer"
        },
        {
         "name": "Name",
         "rawType": "object",
         "type": "string"
        },
        {
         "name": "Age",
         "rawType": "int64",
         "type": "integer"
        },
        {
         "name": "phonenumber",
         "rawType": "object",
         "type": "string"
        }
       ],
       "conversionMethod": "pd.DataFrame",
       "ref": "f70f2fbb-3beb-494e-b0b8-8a27b78c98ed",
       "rows": [
        [
         "0",
         "Reza",
         "18",
         "09922313387"
        ],
        [
         "1",
         "Ali",
         "10",
         "09193485713"
        ],
        [
         "2",
         "Hossein",
         "14",
         "09191466985"
        ]
       ],
       "shape": {
        "columns": 3,
        "rows": 3
       }
      },
      "text/html": [
       "<div>\n",
       "<style scoped>\n",
       "    .dataframe tbody tr th:only-of-type {\n",
       "        vertical-align: middle;\n",
       "    }\n",
       "\n",
       "    .dataframe tbody tr th {\n",
       "        vertical-align: top;\n",
       "    }\n",
       "\n",
       "    .dataframe thead th {\n",
       "        text-align: right;\n",
       "    }\n",
       "</style>\n",
       "<table border=\"1\" class=\"dataframe\">\n",
       "  <thead>\n",
       "    <tr style=\"text-align: right;\">\n",
       "      <th></th>\n",
       "      <th>Name</th>\n",
       "      <th>Age</th>\n",
       "      <th>phonenumber</th>\n",
       "    </tr>\n",
       "  </thead>\n",
       "  <tbody>\n",
       "    <tr>\n",
       "      <th>0</th>\n",
       "      <td>Reza</td>\n",
       "      <td>18</td>\n",
       "      <td>09922313387</td>\n",
       "    </tr>\n",
       "    <tr>\n",
       "      <th>1</th>\n",
       "      <td>Ali</td>\n",
       "      <td>10</td>\n",
       "      <td>09193485713</td>\n",
       "    </tr>\n",
       "    <tr>\n",
       "      <th>2</th>\n",
       "      <td>Hossein</td>\n",
       "      <td>14</td>\n",
       "      <td>09191466985</td>\n",
       "    </tr>\n",
       "  </tbody>\n",
       "</table>\n",
       "</div>"
      ],
      "text/plain": [
       "      Name  Age  phonenumber\n",
       "0     Reza   18  09922313387\n",
       "1      Ali   10  09193485713\n",
       "2  Hossein   14  09191466985"
      ]
     },
     "execution_count": 34,
     "metadata": {},
     "output_type": "execute_result"
    }
   ],
   "source": [
    "data = {\n",
    "    \"Name\":[\"Reza\",\"Ali\",\"Hossein\"],\n",
    "    \"Age\":[18,10,14],\n",
    "    \"phonenumber\":[\"09922313387\",\"09193485713\",\"09191466985\"]\n",
    "}\n",
    "h = pd.DataFrame(data);\n",
    "h"
   ]
  },
  {
   "cell_type": "code",
   "execution_count": null,
   "metadata": {},
   "outputs": [],
   "source": []
  },
  {
   "cell_type": "code",
   "execution_count": null,
   "metadata": {},
   "outputs": [],
   "source": []
  }
 ],
 "metadata": {
  "kernelspec": {
   "display_name": "Python 3",
   "language": "python",
   "name": "python3"
  },
  "language_info": {
   "codemirror_mode": {
    "name": "ipython",
    "version": 3
   },
   "file_extension": ".py",
   "mimetype": "text/x-python",
   "name": "python",
   "nbconvert_exporter": "python",
   "pygments_lexer": "ipython3",
   "version": "3.13.2"
  }
 },
 "nbformat": 4,
 "nbformat_minor": 2
}
